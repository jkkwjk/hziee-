{
 "cells": [
  {
   "cell_type": "code",
   "execution_count": 36,
   "metadata": {},
   "outputs": [
    {
     "name": "stdout",
     "output_type": "stream",
     "text": [
      "金凯凯\n"
     ]
    }
   ],
   "source": [
    "import requests\n",
    "import sys\n",
    "from requests_html import HTMLSession\n",
    "\n",
    "session = HTMLSession()\n",
    "number = '189050416'\n",
    "password = 'JKK112233'\n",
    "\n",
    "url = 'http://124.160.107.91:9090'\n",
    "\n",
    "login_ret = login(session,number,password)\n",
    "login_not_success = '<td><input id=\"RadioButtonList1_0\" type=\"radio\" name=\"RadioButtonList1\" value=\"部门\" tabindex=\"3\" /><label for=\"RadioButtonList1_0\">部门</label></td><td><input id=\"RadioButtonList1_1\" type=\"radio\" name=\"RadioButtonList1\" value=\"教师\" tabindex=\"3\" /><label for=\"RadioButtonList1_1\">教师</label></td><td><input id=\"RadioButtonList1_2\" type=\"radio\" name=\"RadioButtonList1\" value=\"学生\" checked=\"checked\" tabindex=\"3\" /><label for=\"RadioButtonList1_2\">学生</label></td><td><input id=\"RadioButtonList1_3\" type=\"radio\" name=\"RadioButtonList1\" value=\"访客\" tabindex=\"3\" /><label for=\"RadioButtonList1_3\">访客</label></td>'\n",
    "if(not_success in login_ret.text):\n",
    "    #账号密码错误\n",
    "    pass\n",
    "else:\n",
    "    name = login_ret.html.find('span#xhxm')[0].text.replace('同学','')\n",
    "    "
   ]
  },
  {
   "cell_type": "code",
   "execution_count": 30,
   "metadata": {},
   "outputs": [],
   "source": [
    "def login(session,number,password):\n",
    "    # VIEWSTATE 与 EVENTVALIDATION 可在登录页面获取\n",
    "    payload ='TextBox1={}&TextBox2={}&RadioButtonList1=%D1%A7%C9%FA&Button1=\\\n",
    "&__VIEWSTATE=%2FwEPDwUKLTY4Mjg3NzI5NGRklcHnuDy%2BEKmTKQKRrBJUWFObgiQ%3D\\\n",
    "&__EVENTVALIDATION=%2FwEWCgKC%2F4mfCQLs0bLrBgLs0fbZDAK%2FwuqQDgKAqenNDQLN7c0VAuaMg%2BINAveMotMNAoznisYGArursYYI2qzuWT8yK064JRGvh7GsVGkRU7Y%3D'\\\n",
    "    .format(number,password)\n",
    "    headers_login = {'Content-Type': 'application/x-www-form-urlencoded'}\n",
    "    ret = session.post(url+'/default2.aspx',headers=headers_login,data=payload) # 登录\n",
    "    return ret"
   ]
  },
  {
   "cell_type": "code",
   "execution_count": null,
   "metadata": {},
   "outputs": [],
   "source": [
    "def get_default_info(number,name,):\n",
    "    data = 'http://124.160.107.91:9090/xskbcx.aspx?xh={}&xm={}&gnmkdm=N121603'.format(\n",
    "        number,name.encode('utf-8').decode('raw_unicode_escape').replace('\\\\u','%u'))\n",
    "    \n",
    "    headers_getInfo = {'Referer':data}\n",
    "    info_class = session.get(data,headers=headers_getInfo).text\n",
    "    return info_class"
   ]
  },
  {
   "cell_type": "code",
   "execution_count": 15,
   "metadata": {},
   "outputs": [
    {
     "name": "stdout",
     "output_type": "stream",
     "text": [
      "yes\n"
     ]
    }
   ],
   "source": [
    "#test \n",
    "session = HTMLSession()\n",
    "number = '189050416'\n",
    "password = 'JKK112233'\n",
    "\n",
    "url = 'http://124.160.107.91:9090'\n",
    "headers_login = {'Content-Type': 'application/x-www-form-urlencoded'}\n",
    "#session.get(url,headers=head)\n",
    "\n",
    "# VIEWSTATE 与 EVENTVALIDATION 可在登录页面获取\n",
    "payload ='TextBox1={}&TextBox2={}&RadioButtonList1=%D1%A7%C9%FA&Button1=\\\n",
    "&__VIEWSTATE=%2FwEPDwUKLTY4Mjg3NzI5NGRklcHnuDy%2BEKmTKQKRrBJUWFObgiQ%3D\\\n",
    "&__EVENTVALIDATION=%2FwEWCgKC%2F4mfCQLs0bLrBgLs0fbZDAK%2FwuqQDgKAqenNDQLN7c0VAuaMg%2BINAveMotMNAoznisYGArursYYI2qzuWT8yK064JRGvh7GsVGkRU7Y%3D'\\\n",
    "    .format(number,password)\n",
    "not_success = '<td><input id=\"RadioButtonList1_0\" type=\"radio\" name=\"RadioButtonList1\" value=\"部门\" tabindex=\"3\" /><label for=\"RadioButtonList1_0\">部门</label></td><td><input id=\"RadioButtonList1_1\" type=\"radio\" name=\"RadioButtonList1\" value=\"教师\" tabindex=\"3\" /><label for=\"RadioButtonList1_1\">教师</label></td><td><input id=\"RadioButtonList1_2\" type=\"radio\" name=\"RadioButtonList1\" value=\"学生\" checked=\"checked\" tabindex=\"3\" /><label for=\"RadioButtonList1_2\">学生</label></td><td><input id=\"RadioButtonList1_3\" type=\"radio\" name=\"RadioButtonList1\" value=\"访客\" tabindex=\"3\" /><label for=\"RadioButtonList1_3\">访客</label></td>'\n",
    "if(not_success in session.post(url+'/default2.aspx',headers=headers_login,data=payload).text):\n",
    "    print(\"no\")\n",
    "else:\n",
    "    print(\"yes\")"
   ]
  }
 ],
 "metadata": {
  "kernelspec": {
   "display_name": "Python 3",
   "language": "python",
   "name": "python3"
  },
  "language_info": {
   "codemirror_mode": {
    "name": "ipython",
    "version": 3
   },
   "file_extension": ".py",
   "mimetype": "text/x-python",
   "name": "python",
   "nbconvert_exporter": "python",
   "pygments_lexer": "ipython3",
   "version": "3.7.0"
  }
 },
 "nbformat": 4,
 "nbformat_minor": 2
}
